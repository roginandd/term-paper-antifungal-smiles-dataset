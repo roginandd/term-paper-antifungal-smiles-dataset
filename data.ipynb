{
 "cells": [
  {
   "cell_type": "code",
   "execution_count": 21,
   "id": "9158d273-3652-45de-b92b-b38b763a4ebc",
   "metadata": {},
   "outputs": [],
   "source": [
    "import pandas as pd\n",
    "import re\n",
    "\n",
    "df = pd.read_csv(\"PubChem/pubchem_antifungal.csv\")\n",
    "\n",
    "\n",
    "df = df.drop_duplicates()\n",
    "df = df.dropna(subset=[\"SMILES\"])\n",
    "df = df[df[\"SMILES\"].str.lower() != \"not available\"]\n",
    "df.describe()\n",
    "\n",
    "mw = df['MF'].tolist()\n",
    "mw_list = df['MF'].str.extract(r'MW:\\s*([\\d\\.]+)\\s*g/mol')[0].astype(float).tolist()\n",
    "df['MW'] = mw_list\n",
    "df.to_csv(\"cleaned_data_pubchem.csv\", index=False)\n",
    "\n",
    "\n",
    "# Extract numbers after \"MW:\" and before \"g/mol\"\n",
    "\n",
    "\n",
    "\n"
   ]
  }
 ],
 "metadata": {
  "kernelspec": {
   "display_name": "Python 3 (ipykernel)",
   "language": "python",
   "name": "python3"
  },
  "language_info": {
   "codemirror_mode": {
    "name": "ipython",
    "version": 3
   },
   "file_extension": ".py",
   "mimetype": "text/x-python",
   "name": "python",
   "nbconvert_exporter": "python",
   "pygments_lexer": "ipython3",
   "version": "3.13.1"
  }
 },
 "nbformat": 4,
 "nbformat_minor": 5
}
