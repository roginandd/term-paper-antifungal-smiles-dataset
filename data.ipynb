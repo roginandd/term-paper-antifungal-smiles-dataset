{
 "cells": [
  {
   "cell_type": "code",
   "execution_count": null,
   "id": "72efc359-5127-4956-8f23-fc1e0827dfac",
   "metadata": {},
   "outputs": [],
   "source": [
    "import pandas as pd\n",
    "import re\n",
    "\n",
    "df = pd.read_csv(\"PubChem/pubchem_antifungal.csv\")\n",
    "\n",
    "\n",
    "df = df.drop_duplicates()\n",
    "df = df.dropna(subset=[\"SMILES\"])\n",
    "df = df[df[\"SMILES\"].str.lower() != \"not available\"]\n",
    "df.describe()\n",
    "\n",
    "mw = df['MF'].tolist()\n",
    "mw_list = df['MF'].str.extract(r'MW:\\s*([\\d\\.]+)\\s*g/mol')[0].astype(float).tolist()\n",
    "df['MW'] = mw_list\n",
    "df.to_csv(\"cleaned_data_pubchem.csv\", index=False)\n",
    "\n",
    "\n",
    "# Extract numbers after \"MW:\" and before \"g/mol\"\n",
    "\n",
    "\n",
    "\n"
   ]
  },
  {
   "cell_type": "raw",
   "id": "5ed0c53a-3a7a-4b39-96a5-49cf1d668a9e",
   "metadata": {},
   "source": [
    "Filtering Drugbank dataset based on SMILE index"
   ]
  },
  {
   "cell_type": "code",
   "execution_count": 62,
   "id": "51c5c80a-5e05-4dfa-9344-abde5d861a78",
   "metadata": {},
   "outputs": [
    {
     "name": "stdout",
     "output_type": "stream",
     "text": [
      "ORIGINAL LEN: 159\n",
      "NO SMILE DUP  LEN: 129\n"
     ]
    }
   ],
   "source": [
    "import pandas as pd\n",
    "import re\n",
    "\n",
    "df = pd.read_csv(\"DrugBrank/drugbank_antifungal_details.csv\")\n",
    "\n",
    "print(f\"ORIGINAL LEN: {len(df)}\")\n",
    "\n",
    "\n",
    "df = df.dropna(subset=[\"SMILES\"])\n",
    "df = df.drop_duplicates(subset=\"SMILES\")\n",
    "df = df[df[\"SMILES\"].str.lower() != \"not available\"]\n",
    "\n",
    "print(f\"NO SMILE DUP  LEN: {len(df)}\")\n",
    "\n",
    "df.to_csv(\"cleaned_data_drugbank.csv\", index=False)\n",
    "\n"
   ]
  },
  {
   "cell_type": "raw",
   "id": "868aabf8-aef9-4e74-9860-cd6a1ff2b682",
   "metadata": {},
   "source": [
    "Combination of the two filtered dataset"
   ]
  },
  {
   "cell_type": "code",
   "execution_count": 63,
   "id": "a3e0dc12-7b13-43ff-886a-db4027c7fada",
   "metadata": {},
   "outputs": [
    {
     "name": "stdout",
     "output_type": "stream",
     "text": [
      "✅ Merged and saved as pubchem_and_drugbank_filtered.csv\n",
      "790\n"
     ]
    }
   ],
   "source": [
    "import pandas as pd\n",
    "\n",
    "# Read both CSV files\n",
    "df1 = pd.read_csv(\"cleaned_data_drugbank.csv\")\n",
    "df2 = pd.read_csv(\"cleaned_data_pubchem.csv\")\n",
    "\n",
    "# Combine them — stack rows from both files\n",
    "merged = pd.concat([df1, df2], ignore_index=True)\n",
    "\n",
    "# Remove duplicates (optional, if the same rows appear in both)\n",
    "merged = merged.drop_duplicates()\n",
    "\n",
    "# Export only the 'SMILES' column\n",
    "merged['SMILES'].to_csv('pubchem_and_drugbank_filtered.csv', index=False)\n",
    "\n",
    "print(\"✅ Merged and saved as pubchem_and_drugbank_filtered.csv\")\n",
    "print(len(merged['SMILES']))"
   ]
  },
  {
   "cell_type": "code",
   "execution_count": 59,
   "id": "0000a429-beef-4e57-b4f0-1e481b340583",
   "metadata": {},
   "outputs": [
    {
     "name": "stdout",
     "output_type": "stream",
     "text": [
      "Origin Count: 769\n",
      "Unique SMILES count: 769\n"
     ]
    }
   ],
   "source": [
    "df = pd.read_csv(\"PubChem_compound_text_antifungal (2).csv\")\n",
    "\n",
    "\n",
    "print(f\"Origin Count: {len(df)}\")\n",
    "\n",
    "df = df.drop_duplicates(subset='SMILES')\n",
    "\n",
    "print(\"Unique SMILES count:\", len(df))\n"
   ]
  },
  {
   "cell_type": "raw",
   "id": "d9445685-611f-422a-a9ed-928bcd21484a",
   "metadata": {},
   "source": [
    "Cleaning ChemBL\n"
   ]
  }
 ],
 "metadata": {
  "kernelspec": {
   "display_name": "Python 3 (ipykernel)",
   "language": "python",
   "name": "python3"
  },
  "language_info": {
   "codemirror_mode": {
    "name": "ipython",
    "version": 3
   },
   "file_extension": ".py",
   "mimetype": "text/x-python",
   "name": "python",
   "nbconvert_exporter": "python",
   "pygments_lexer": "ipython3",
   "version": "3.13.1"
  }
 },
 "nbformat": 4,
 "nbformat_minor": 5
}
