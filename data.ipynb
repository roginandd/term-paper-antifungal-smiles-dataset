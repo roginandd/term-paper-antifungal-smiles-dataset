{
 "cells": [
  {
   "cell_type": "code",
   "execution_count": null,
   "id": "72efc359-5127-4956-8f23-fc1e0827dfac",
   "metadata": {},
   "outputs": [],
   "source": [
    "import pandas as pd\n",
    "import re\n",
    "\n",
    "df = pd.read_csv(\"PubChem/pubchem_antifungal.csv\")\n",
    "\n",
    "\n",
    "df = df.drop_duplicates()\n",
    "df = df.dropna(subset=[\"SMILES\"])\n",
    "df = df[df[\"SMILES\"].str.lower() != \"not available\"]\n",
    "df.describe()\n",
    "\n",
    "mw = df['MF'].tolist()\n",
    "mw_list = df['MF'].str.extract(r'MW:\\s*([\\d\\.]+)\\s*g/mol')[0].astype(float).tolist()\n",
    "df['MW'] = mw_list\n",
    "df.to_csv(\"cleaned_data_pubchem.csv\", index=False)\n",
    "\n",
    "\n",
    "# Extract numbers after \"MW:\" and before \"g/mol\"\n",
    "\n",
    "\n",
    "\n"
   ]
  },
  {
   "cell_type": "raw",
   "id": "868aabf8-aef9-4e74-9860-cd6a1ff2b682",
   "metadata": {},
   "source": [
    "Combination of the two filtered dataset"
   ]
  },
  {
   "cell_type": "code",
   "execution_count": 30,
   "id": "a3e0dc12-7b13-43ff-886a-db4027c7fada",
   "metadata": {},
   "outputs": [
    {
     "name": "stdout",
     "output_type": "stream",
     "text": [
      "✅ Merged and saved as pubchem_and_drugbank_filtered.csv\n"
     ]
    }
   ],
   "source": [
    "import pandas as pd\n",
    "\n",
    "# Read both CSV files\n",
    "df1 = pd.read_csv(\"cleaned_data_drugbank.csv\")\n",
    "df2 = pd.read_csv(\"cleaned_data_pubchem.csv\")\n",
    "\n",
    "# Combine them — stack rows from both files\n",
    "merged = pd.concat([df1, df2], ignore_index=True)\n",
    "\n",
    "# Remove duplicates (optional, if the same rows appear in both)\n",
    "merged = merged.drop_duplicates()\n",
    "\n",
    "# Export only the 'SMILES' column\n",
    "merged['SMILES'].to_csv('pubchem_and_drugbank_filtered.csv', index=False)\n",
    "\n",
    "print(\"✅ Merged and saved as pubchem_and_drugbank_filtered.csv\")\n"
   ]
  }
 ],
 "metadata": {
  "kernelspec": {
   "display_name": "Python 3 (ipykernel)",
   "language": "python",
   "name": "python3"
  },
  "language_info": {
   "codemirror_mode": {
    "name": "ipython",
    "version": 3
   },
   "file_extension": ".py",
   "mimetype": "text/x-python",
   "name": "python",
   "nbconvert_exporter": "python",
   "pygments_lexer": "ipython3",
   "version": "3.13.1"
  }
 },
 "nbformat": 4,
 "nbformat_minor": 5
}
